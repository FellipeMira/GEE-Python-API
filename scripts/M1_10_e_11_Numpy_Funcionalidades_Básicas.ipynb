{
  "nbformat": 4,
  "nbformat_minor": 0,
  "metadata": {
    "colab": {
      "provenance": [],
      "collapsed_sections": [
        "pt1KvR5oLKsX"
      ]
    },
    "kernelspec": {
      "name": "python3",
      "display_name": "Python 3"
    },
    "language_info": {
      "name": "python"
    }
  },
  "cells": [
    {
      "cell_type": "markdown",
      "source": [
        "# **Numpy**\n",
        "\n",
        "Numpy é uma das bibliotecas mais importantes em Python para computação científica e análise de dados. Ela fornece um poderoso objeto de matriz multidimensional, bem como funções para manipular e trabalhar com essas matrizes. O numpy é um pacote fundamental para cientistas de dados, engenheiros e pesquisadores em diversas áreas de pesquisa.\n",
        "\n",
        "NumPy , abreviação de **Numerical Python**, tem sido a pedra angular da computação numérica em Python. Ele fornece as estruturas de dados, algoritmos e cola de biblioteca necessária para a maioria das aplicações científicas envolvendo dados numéricos em Python."
      ],
      "metadata": {
        "id": "-MapCAedJBgR"
      }
    },
    {
      "cell_type": "markdown",
      "source": [
        "# **Criando um array:**\n",
        "\n",
        "O numpy é baseado em matrizes, que são semelhantes às listas do Python, mas com a diferença de que todas as matrizes devem conter elementos do mesmo tipo. A forma mais simples de criar uma matriz é usando a função numpy.array():\n",
        "\n"
      ],
      "metadata": {
        "id": "-hSl_A_RJKVp"
      }
    },
    {
      "cell_type": "code",
      "execution_count": null,
      "metadata": {
        "id": "IanuLrWPI40q"
      },
      "outputs": [],
      "source": [
        "##importando a biblioteca\n",
        "import numpy as np"
      ]
    },
    {
      "cell_type": "code",
      "source": [
        "# criando um array de uma dimensão\n",
        "array1d = np.array([1, 2, 3, 4, 5])\n",
        "array1d"
      ],
      "metadata": {
        "colab": {
          "base_uri": "https://localhost:8080/"
        },
        "id": "oiYLhDTpJVbR",
        "outputId": "ce9374b9-3bc7-48b6-fb15-bd71f09d2043"
      },
      "execution_count": null,
      "outputs": [
        {
          "output_type": "execute_result",
          "data": {
            "text/plain": [
              "array([1, 2, 3, 4, 5])"
            ]
          },
          "metadata": {},
          "execution_count": 2
        }
      ]
    },
    {
      "cell_type": "code",
      "source": [
        "# criando um array de duas dimensões\n",
        "array2d = np.array([[1, 2, 3], [4, 5, 6], [7, 8, 9]])\n",
        "array2d"
      ],
      "metadata": {
        "colab": {
          "base_uri": "https://localhost:8080/"
        },
        "id": "f7xLF6bcJYL5",
        "outputId": "e3492427-1521-42c5-e29c-5dd87a5df499"
      },
      "execution_count": null,
      "outputs": [
        {
          "output_type": "execute_result",
          "data": {
            "text/plain": [
              "array([[1, 2, 3],\n",
              "       [4, 5, 6],\n",
              "       [7, 8, 9]])"
            ]
          },
          "metadata": {},
          "execution_count": 3
        }
      ]
    },
    {
      "cell_type": "code",
      "source": [
        "# criando um array com valores aleatórios\n",
        "array_aleatorio = np.random.rand(3, 3) # array 3x3 com valores aleatórios\n",
        "array_aleatorio"
      ],
      "metadata": {
        "colab": {
          "base_uri": "https://localhost:8080/"
        },
        "id": "I9bcEA6YJbBf",
        "outputId": "81efa9d7-9cab-486d-b287-5e9adb3fd45d"
      },
      "execution_count": null,
      "outputs": [
        {
          "output_type": "execute_result",
          "data": {
            "text/plain": [
              "array([[0.55575051, 0.95276234, 0.33656961],\n",
              "       [0.52715719, 0.43551021, 0.12808872],\n",
              "       [0.68804636, 0.44162678, 0.17311369]])"
            ]
          },
          "metadata": {},
          "execution_count": 4
        }
      ]
    },
    {
      "cell_type": "markdown",
      "source": [
        "# **Indexação**\n",
        "\n",
        "A indexação em matrizes numpy é muito semelhante à indexação em listas do Python, com a diferença de que podemos usar várias dimensões para indexar uma matriz multidimensional. Para acessar um elemento de uma matriz, usamos colchetes '[ ]' e especificamos os índices:"
      ],
      "metadata": {
        "id": "8UBiyvZnJfou"
      }
    },
    {
      "cell_type": "code",
      "source": [
        "# acessando um elemento de um array\n",
        "print(array1d[0]) # 1"
      ],
      "metadata": {
        "colab": {
          "base_uri": "https://localhost:8080/"
        },
        "id": "gqj4l_JOJirQ",
        "outputId": "762dda09-21a5-4184-e6dc-e07ca8dde6fc"
      },
      "execution_count": null,
      "outputs": [
        {
          "output_type": "stream",
          "name": "stdout",
          "text": [
            "1\n"
          ]
        }
      ]
    },
    {
      "cell_type": "code",
      "source": [
        "# acessando um elemento de um array 2D\n",
        "print(array2d[1, 2]) # 6\n"
      ],
      "metadata": {
        "colab": {
          "base_uri": "https://localhost:8080/"
        },
        "id": "7bUJ8aoIJnr4",
        "outputId": "daad3b15-093a-4cd5-f5d5-c972a50bfb80"
      },
      "execution_count": null,
      "outputs": [
        {
          "output_type": "stream",
          "name": "stdout",
          "text": [
            "6\n"
          ]
        }
      ]
    },
    {
      "cell_type": "markdown",
      "source": [
        "# **Slicing**\n",
        "\n",
        "Slicing em matrizes numpy é muito semelhante ao slicing em listas do Python. Podemos acessar uma submatriz de uma matriz especificando o intervalo de índices que queremos:\n"
      ],
      "metadata": {
        "id": "q_2xDAs6Jsiw"
      }
    },
    {
      "cell_type": "code",
      "source": [
        "# criando um array de duas dimensões\n",
        "array2d = np.array([[1, 2, 3], [4, 5, 6], [7, 8, 9]])\n",
        "array2d"
      ],
      "metadata": {
        "id": "fxUBB8LeJw6w"
      },
      "execution_count": null,
      "outputs": []
    },
    {
      "cell_type": "code",
      "source": [
        "##É uma matriz 2d\n",
        "array2d.shape"
      ],
      "metadata": {
        "id": "LoL0Og_mKI8w"
      },
      "execution_count": null,
      "outputs": []
    },
    {
      "cell_type": "code",
      "source": [
        "# acessando uma submatriz\n",
        "##vamos pegar a matriz até a segunda linha e só as ultimas 2 colunas\n",
        "print(array2d[:2, 1:]) # [[2, 3], [5, 6]]"
      ],
      "metadata": {
        "colab": {
          "base_uri": "https://localhost:8080/"
        },
        "id": "fc1kRD8QJ17o",
        "outputId": "be7fa4b7-ba46-4a88-8bdc-bd951b157ccf"
      },
      "execution_count": null,
      "outputs": [
        {
          "output_type": "stream",
          "name": "stdout",
          "text": [
            "[[2 3]\n",
            " [5 6]]\n"
          ]
        }
      ]
    },
    {
      "cell_type": "markdown",
      "source": [
        "# **Operações básicas:**\n",
        "\n",
        "O numpy fornece muitas funções e métodos para realizar operações em matrizes. Algumas operações básicas incluem:\n"
      ],
      "metadata": {
        "id": "A1RIa8uKKm0-"
      }
    },
    {
      "cell_type": "code",
      "source": [
        "##1D\n",
        "array1d"
      ],
      "metadata": {
        "colab": {
          "base_uri": "https://localhost:8080/"
        },
        "id": "kFo8bk2TKygH",
        "outputId": "458629c0-5ce9-4df4-87b0-f17b1460b785"
      },
      "execution_count": null,
      "outputs": [
        {
          "output_type": "execute_result",
          "data": {
            "text/plain": [
              "array([1, 2, 3, 4, 5])"
            ]
          },
          "metadata": {},
          "execution_count": 10
        }
      ]
    },
    {
      "cell_type": "code",
      "source": [
        "# somando elementos de um array\n",
        "print(np.sum(array1d)) # 15"
      ],
      "metadata": {
        "colab": {
          "base_uri": "https://localhost:8080/"
        },
        "id": "X8DB9ohiKrEA",
        "outputId": "761fecb1-3d33-49f3-f618-134fdd6d89bf"
      },
      "execution_count": null,
      "outputs": [
        {
          "output_type": "stream",
          "name": "stdout",
          "text": [
            "15\n"
          ]
        }
      ]
    },
    {
      "cell_type": "code",
      "source": [
        "# somando elementos de um array 2D\n",
        "array2d"
      ],
      "metadata": {
        "colab": {
          "base_uri": "https://localhost:8080/"
        },
        "id": "DNl3qS7OK3FY",
        "outputId": "9dfb4c85-37fa-4965-ff61-99930773ec44"
      },
      "execution_count": null,
      "outputs": [
        {
          "output_type": "execute_result",
          "data": {
            "text/plain": [
              "array([[1, 2, 3],\n",
              "       [4, 5, 6],\n",
              "       [7, 8, 9]])"
            ]
          },
          "metadata": {},
          "execution_count": 12
        }
      ]
    },
    {
      "cell_type": "code",
      "source": [
        "print(np.sum(array2d)) # 45"
      ],
      "metadata": {
        "colab": {
          "base_uri": "https://localhost:8080/"
        },
        "id": "wmt__SrwK6Dv",
        "outputId": "4e935da2-99db-452b-ed22-01d585869a75"
      },
      "execution_count": null,
      "outputs": [
        {
          "output_type": "stream",
          "name": "stdout",
          "text": [
            "45\n"
          ]
        }
      ]
    },
    {
      "cell_type": "code",
      "source": [
        "# encontrando o valor máximo de um array\n",
        "array1d"
      ],
      "metadata": {
        "colab": {
          "base_uri": "https://localhost:8080/"
        },
        "id": "SbPKcYRBK9QX",
        "outputId": "3c948775-117b-44a9-baed-053d2287c1ce"
      },
      "execution_count": null,
      "outputs": [
        {
          "output_type": "execute_result",
          "data": {
            "text/plain": [
              "array([1, 2, 3, 4, 5])"
            ]
          },
          "metadata": {},
          "execution_count": 14
        }
      ]
    },
    {
      "cell_type": "code",
      "source": [
        "print(np.max(array1d)) # 5"
      ],
      "metadata": {
        "colab": {
          "base_uri": "https://localhost:8080/"
        },
        "id": "5fWXDgpZK_f_",
        "outputId": "92c0e07f-3f6b-42db-a4f5-5a27d74f754d"
      },
      "execution_count": null,
      "outputs": [
        {
          "output_type": "stream",
          "name": "stdout",
          "text": [
            "5\n"
          ]
        }
      ]
    },
    {
      "cell_type": "code",
      "source": [
        "# encontrando o valor mínimo de um array\n",
        "print(np.min(array1d)) # 1"
      ],
      "metadata": {
        "colab": {
          "base_uri": "https://localhost:8080/"
        },
        "id": "_PsH3706LBpI",
        "outputId": "30d7f5eb-9f8e-423e-96da-6e3ae2c7637b"
      },
      "execution_count": null,
      "outputs": [
        {
          "output_type": "stream",
          "name": "stdout",
          "text": [
            "1\n"
          ]
        }
      ]
    },
    {
      "cell_type": "code",
      "source": [
        "# encontrando a média de um array\n",
        "print(np.mean(array1d)) # 3.0"
      ],
      "metadata": {
        "colab": {
          "base_uri": "https://localhost:8080/"
        },
        "id": "xGZPAWtGLIQn",
        "outputId": "d8685088-3217-4b12-f1d7-066db77ee144"
      },
      "execution_count": null,
      "outputs": [
        {
          "output_type": "stream",
          "name": "stdout",
          "text": [
            "3.0\n"
          ]
        }
      ]
    },
    {
      "cell_type": "markdown",
      "source": [
        "# **Manipulando arrays:**\n",
        "\n",
        "O numpy fornece muitas funções para manipular matrizes, incluindo reshape(), transpose(), concatenate() e muitas outras. Aqui estão alguns exemplos:"
      ],
      "metadata": {
        "id": "pt1KvR5oLKsX"
      }
    },
    {
      "cell_type": "code",
      "source": [
        "# mudando a forma de um array\n",
        "array1d = np.array([1, 2, 3, 4, 5, 6])\n",
        "array1d"
      ],
      "metadata": {
        "colab": {
          "base_uri": "https://localhost:8080/"
        },
        "id": "tfsFizD9LVAo",
        "outputId": "1218d8bb-cd63-41ac-c129-3b488b6a666c"
      },
      "execution_count": null,
      "outputs": [
        {
          "output_type": "execute_result",
          "data": {
            "text/plain": [
              "array([1, 2, 3, 4, 5, 6])"
            ]
          },
          "metadata": {},
          "execution_count": 18
        }
      ]
    },
    {
      "cell_type": "code",
      "source": [
        "# mudando a forma de um array\n",
        "array1d = np.array([1, 2, 3, 4, 5, 6])\n",
        "array2d = array1d.reshape(2, 3) ##duaslinhas e 3 colunas\n",
        "array2d"
      ],
      "metadata": {
        "colab": {
          "base_uri": "https://localhost:8080/"
        },
        "id": "eXgEwNlWLORn",
        "outputId": "e0b734df-5d3c-492d-c69c-0bac20195097"
      },
      "execution_count": null,
      "outputs": [
        {
          "output_type": "execute_result",
          "data": {
            "text/plain": [
              "array([[1, 2, 3],\n",
              "       [4, 5, 6]])"
            ]
          },
          "metadata": {},
          "execution_count": 19
        }
      ]
    },
    {
      "cell_type": "code",
      "source": [
        "### transpondo um array\n",
        "array2d.T"
      ],
      "metadata": {
        "colab": {
          "base_uri": "https://localhost:8080/"
        },
        "id": "yB2mkXw8LdDf",
        "outputId": "154d5fba-40b5-4f96-c504-6c8d45461155"
      },
      "execution_count": null,
      "outputs": [
        {
          "output_type": "execute_result",
          "data": {
            "text/plain": [
              "array([[1, 4],\n",
              "       [2, 5],\n",
              "       [3, 6]])"
            ]
          },
          "metadata": {},
          "execution_count": 20
        }
      ]
    },
    {
      "cell_type": "code",
      "source": [
        "# concatenando arrays\n",
        "array1 = np.array([1, 2, 3])\n",
        "array2 = np.array([4, 5, 6])\n",
        "array_concatenado = np.concatenate((array1, array2))\n",
        "array_concatenado"
      ],
      "metadata": {
        "colab": {
          "base_uri": "https://localhost:8080/"
        },
        "id": "CQR3Vcx-APGS",
        "outputId": "7d582dd6-11c3-4315-cbbf-a6cc4c400100"
      },
      "execution_count": null,
      "outputs": [
        {
          "output_type": "execute_result",
          "data": {
            "text/plain": [
              "array([1, 2, 3, 4, 5, 6])"
            ]
          },
          "metadata": {},
          "execution_count": 22
        }
      ]
    },
    {
      "cell_type": "code",
      "source": [
        "# empilhando arrays\n",
        "array1 = np.array([[1, 2], [3, 4]])\n",
        "array2 = np.array([[5, 6], [7, 8]])\n",
        "array_empilhado = np.vstack((array1, array2))\n",
        "array_empilhado"
      ],
      "metadata": {
        "colab": {
          "base_uri": "https://localhost:8080/"
        },
        "id": "oPlifnsGAQjy",
        "outputId": "8e4ce9eb-7a49-46c5-a750-24760d3e27fd"
      },
      "execution_count": null,
      "outputs": [
        {
          "output_type": "execute_result",
          "data": {
            "text/plain": [
              "array([[1, 2],\n",
              "       [3, 4],\n",
              "       [5, 6],\n",
              "       [7, 8]])"
            ]
          },
          "metadata": {},
          "execution_count": 21
        }
      ]
    }
  ]
}